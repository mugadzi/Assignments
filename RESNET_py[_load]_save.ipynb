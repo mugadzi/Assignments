{
  "nbformat": 4,
  "nbformat_minor": 0,
  "metadata": {
    "colab": {
      "provenance": [],
      "authorship_tag": "ABX9TyNF+VUu5HoeHkmOGjerR7Bj",
      "include_colab_link": true
    },
    "kernelspec": {
      "name": "python3",
      "display_name": "Python 3"
    },
    "language_info": {
      "name": "python"
    }
  },
  "cells": [
    {
      "cell_type": "markdown",
      "metadata": {
        "id": "view-in-github",
        "colab_type": "text"
      },
      "source": [
        "<a href=\"https://colab.research.google.com/github/mugadzi/Assignments/blob/main/RESNET_py%5B_load%5D_save.ipynb\" target=\"_parent\"><img src=\"https://colab.research.google.com/assets/colab-badge.svg\" alt=\"Open In Colab\"/></a>"
      ]
    },
    {
      "cell_type": "code",
      "execution_count": null,
      "metadata": {
        "colab": {
          "base_uri": "https://localhost:8080/"
        },
        "id": "rs9oPy1bcbDM",
        "outputId": "6816df33-db00-4d2a-caf0-e7b428cd449a"
      },
      "outputs": [
        {
          "metadata": {
            "tags": null
          },
          "name": "stdout",
          "output_type": "stream",
          "text": [
            "Files already downloaded and verified\n",
            "Files already downloaded and verified\n"
          ]
        },
        {
          "metadata": {
            "tags": null
          },
          "name": "stderr",
          "output_type": "stream",
          "text": [
            "/usr/local/lib/python3.10/dist-packages/torchvision/models/_utils.py:208: UserWarning: The parameter 'pretrained' is deprecated since 0.13 and may be removed in the future, please use 'weights' instead.\n",
            "  warnings.warn(\n",
            "/usr/local/lib/python3.10/dist-packages/torchvision/models/_utils.py:223: UserWarning: Arguments other than a weight enum or `None` for 'weights' are deprecated since 0.13 and may be removed in the future. The current behavior is equivalent to passing `weights=None`.\n",
            "  warnings.warn(msg)\n"
          ]
        },
        {
          "output_type": "stream",
          "name": "stdout",
          "text": [
            "Epoch [1/10], Step [100/500], Loss: 1.4364\n",
            "Epoch [1/10], Step [200/500], Loss: 1.4257\n",
            "Epoch [1/10], Step [300/500], Loss: 1.0606\n",
            "Epoch [1/10], Step [400/500], Loss: 1.0818\n",
            "Epoch [1/10], Step [500/500], Loss: 1.3514\n",
            "Epoch [2/10], Step [100/500], Loss: 0.9580\n",
            "Epoch [2/10], Step [200/500], Loss: 1.0409\n",
            "Epoch [2/10], Step [300/500], Loss: 0.9498\n",
            "Epoch [2/10], Step [400/500], Loss: 0.7158\n",
            "Epoch [2/10], Step [500/500], Loss: 0.9208\n",
            "Epoch [3/10], Step [100/500], Loss: 0.8549\n",
            "Epoch [3/10], Step [200/500], Loss: 0.7742\n",
            "Epoch [3/10], Step [300/500], Loss: 0.8158\n",
            "Epoch [3/10], Step [400/500], Loss: 0.7373\n",
            "Epoch [3/10], Step [500/500], Loss: 0.8802\n",
            "Epoch [4/10], Step [100/500], Loss: 0.6972\n",
            "Epoch [4/10], Step [200/500], Loss: 0.6164\n",
            "Epoch [4/10], Step [300/500], Loss: 0.5293\n",
            "Epoch [4/10], Step [400/500], Loss: 0.6514\n",
            "Epoch [4/10], Step [500/500], Loss: 0.7353\n",
            "Epoch [5/10], Step [100/500], Loss: 0.4393\n",
            "Epoch [5/10], Step [200/500], Loss: 0.6110\n",
            "Epoch [5/10], Step [300/500], Loss: 0.6997\n",
            "Epoch [5/10], Step [400/500], Loss: 0.3923\n",
            "Epoch [5/10], Step [500/500], Loss: 0.5231\n",
            "Epoch [6/10], Step [100/500], Loss: 0.3258\n",
            "Epoch [6/10], Step [200/500], Loss: 0.5560\n",
            "Epoch [6/10], Step [300/500], Loss: 0.6044\n",
            "Epoch [6/10], Step [400/500], Loss: 0.4814\n",
            "Epoch [6/10], Step [500/500], Loss: 0.4850\n",
            "Epoch [7/10], Step [100/500], Loss: 0.3542\n",
            "Epoch [7/10], Step [200/500], Loss: 0.5411\n",
            "Epoch [7/10], Step [300/500], Loss: 0.4762\n",
            "Epoch [7/10], Step [400/500], Loss: 0.4568\n",
            "Epoch [7/10], Step [500/500], Loss: 0.4818\n",
            "Epoch [8/10], Step [100/500], Loss: 0.3046\n",
            "Epoch [8/10], Step [200/500], Loss: 0.2908\n",
            "Epoch [8/10], Step [300/500], Loss: 0.3391\n",
            "Epoch [8/10], Step [400/500], Loss: 0.4536\n",
            "Epoch [8/10], Step [500/500], Loss: 0.3533\n",
            "Epoch [9/10], Step [100/500], Loss: 0.3306\n",
            "Epoch [9/10], Step [200/500], Loss: 0.3233\n",
            "Epoch [9/10], Step [300/500], Loss: 0.2483\n",
            "Epoch [9/10], Step [400/500], Loss: 0.2006\n",
            "Epoch [9/10], Step [500/500], Loss: 0.2210\n",
            "Epoch [10/10], Step [100/500], Loss: 0.2102\n",
            "Epoch [10/10], Step [200/500], Loss: 0.2602\n",
            "Epoch [10/10], Step [300/500], Loss: 0.3956\n",
            "Epoch [10/10], Step [400/500], Loss: 0.2141\n",
            "Epoch [10/10], Step [500/500], Loss: 0.2192\n",
            "Accuracy of the model on the 10000 test images: 69.85 %\n",
            "Accuracy of the model on the 50000 train images: 94.286 %\n"
          ]
        }
      ],
      "source": [
        "import torch\n",
        "import torch.nn as nn\n",
        "import torch.optim as optim\n",
        "import torchvision.transforms as transforms\n",
        "import torchvision.datasets as datasets\n",
        "import torchvision.models as models\n",
        "\n",
        "# Hyperparameters\n",
        "num_epochs = 10\n",
        "batch_size = 100\n",
        "learning_rate = 0.001\n",
        "\n",
        "# Load CIFAR-10 dataset\n",
        "train_dataset = datasets.CIFAR10(root='./data', train=True, download=True, transform=transforms.ToTensor())\n",
        "test_dataset = datasets.CIFAR10(root='./data', train=False, download=True, transform=transforms.ToTensor())\n",
        "\n",
        "# Data loaders\n",
        "train_loader = torch.utils.data.DataLoader(dataset=train_dataset, batch_size=batch_size, shuffle=True)\n",
        "test_loader = torch.utils.data.DataLoader(dataset=test_dataset, batch_size=batch_size, shuffle=False)\n",
        "\n",
        "# Define the model\n",
        "model = models.resnet18(pretrained=False)\n",
        "num_ftrs = model.fc.in_features\n",
        "model.fc = nn.Linear(num_ftrs, 10)\n",
        "model = model.cpu()\n",
        "\n",
        "# Loss function and optimizer\n",
        "criterion = nn.CrossEntropyLoss()\n",
        "optimizer = optim.Adam(model.parameters(), lr=learning_rate)\n",
        "\n",
        "# Train the model\n",
        "total_step = len(train_loader)\n",
        "for epoch in range(num_epochs):\n",
        "    for i, (images, labels) in enumerate(train_loader):\n",
        "        images = images.cpu()\n",
        "        labels = labels.cpu()\n",
        "        \n",
        "        # Forward pass\n",
        "        outputs = model(images)\n",
        "        loss = criterion(outputs, labels)\n",
        "        \n",
        "        # Backward and optimize\n",
        "        optimizer.zero_grad()\n",
        "        loss.backward()\n",
        "        optimizer.step()\n",
        "        \n",
        "        if (i+1) % 100 == 0:\n",
        "            print('Epoch [{}/{}], Step [{}/{}], Loss: {:.4f}'.format(epoch+1, num_epochs, i+1, total_step, loss.item()))\n",
        "\n",
        "# Test the model\n",
        "model.eval()\n",
        "with torch.no_grad():\n",
        "    correct = 0\n",
        "    total = 0\n",
        "    for images, labels in test_loader:\n",
        "        images = images.cpu()\n",
        "        labels = labels.cpu()\n",
        "        \n",
        "        # Forward pass\n",
        "        outputs = model(images)\n",
        "        _, predicted = torch.max(outputs.data, 1)\n",
        "        total += labels.size(0)\n",
        "        correct += (predicted == labels).sum().item()\n",
        "\n",
        "    print('Accuracy of the model on the 10000 test images: {} %'.format(100 * correct / total))\n",
        "    \n",
        "    # Train accuracy\n",
        "    model.train()\n",
        "    correct = 0\n",
        "    total = 0\n",
        "    for images, labels in train_loader:\n",
        "        images = images.cpu()\n",
        "        labels = labels.cpu()\n",
        "\n",
        "        # Forward pass\n",
        "        outputs = model(images)\n",
        "        _, predicted = torch.max(outputs.data, 1)\n",
        "        total += labels.size(0)\n",
        "        correct += (predicted == labels).sum().item()\n",
        "\n",
        "    print('Accuracy of the model on the {} train images: {} %'.format(len(train_dataset), 100 * correct / total))\n"
      ]
    },
    {
      "cell_type": "code",
      "source": [
        "> python MLP.py -load\n",
        "loading params...\n",
        "Done!\n",
        "accuracy on trained data= 94,286\n",
        "Test accuracy = 69.85%"
      ],
      "metadata": {
        "id": "L26ETiPaOOU1"
      },
      "execution_count": null,
      "outputs": []
    }
  ]
}